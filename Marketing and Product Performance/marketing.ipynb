{
 "cells": [
  {
   "cell_type": "code",
   "execution_count": 1,
   "id": "77932ec7-d308-4cc6-ad6b-84bde5ecd6d9",
   "metadata": {},
   "outputs": [],
   "source": [
    "import pandas as pd\n",
    "import numpy as np\n",
    "import matplotlib.pyplot as plt\n",
    "import seaborn as sns "
   ]
  },
  {
   "cell_type": "markdown",
   "id": "a1359c2c-4258-429c-ad82-e8dfae6f406b",
   "metadata": {},
   "source": [
    "## Import dataset"
   ]
  },
  {
   "cell_type": "code",
   "execution_count": 2,
   "id": "5e50e3ee-856c-4e2d-af1e-1af0d0ca5da4",
   "metadata": {},
   "outputs": [],
   "source": [
    "data = pd.read_excel('marketing_and_product_performance.xlsx')"
   ]
  },
  {
   "cell_type": "markdown",
   "id": "19084e44-4ca7-4034-8bcc-f6fcbde6c011",
   "metadata": {},
   "source": [
    "## Exploratory Data Analysis"
   ]
  },
  {
   "cell_type": "code",
   "execution_count": 38,
   "id": "62f98dda-5951-4817-9c0c-2069e9c23730",
   "metadata": {},
   "outputs": [
    {
     "data": {
      "text/html": [
       "<div>\n",
       "<style scoped>\n",
       "    .dataframe tbody tr th:only-of-type {\n",
       "        vertical-align: middle;\n",
       "    }\n",
       "\n",
       "    .dataframe tbody tr th {\n",
       "        vertical-align: top;\n",
       "    }\n",
       "\n",
       "    .dataframe thead th {\n",
       "        text-align: right;\n",
       "    }\n",
       "</style>\n",
       "<table border=\"1\" class=\"dataframe\">\n",
       "  <thead>\n",
       "    <tr style=\"text-align: right;\">\n",
       "      <th></th>\n",
       "      <th>Campaign_ID</th>\n",
       "      <th>Product_ID</th>\n",
       "      <th>Budget</th>\n",
       "      <th>Clicks</th>\n",
       "      <th>Conversions</th>\n",
       "      <th>Revenue_Generated</th>\n",
       "      <th>ROI</th>\n",
       "      <th>Customer_ID</th>\n",
       "      <th>Subscription_Tier</th>\n",
       "      <th>Subscription_Length</th>\n",
       "      <th>Flash_Sale_ID</th>\n",
       "      <th>Discount_Level</th>\n",
       "      <th>Units_Sold</th>\n",
       "      <th>Bundle_ID</th>\n",
       "      <th>Bundle_Price</th>\n",
       "      <th>Customer_Satisfaction_Post_Refund</th>\n",
       "      <th>Common_Keywords</th>\n",
       "    </tr>\n",
       "  </thead>\n",
       "  <tbody>\n",
       "    <tr>\n",
       "      <th>0</th>\n",
       "      <td>CMP_RLSDVN</td>\n",
       "      <td>PROD_HBJFA3</td>\n",
       "      <td>41770</td>\n",
       "      <td>4946</td>\n",
       "      <td>73</td>\n",
       "      <td>15520</td>\n",
       "      <td>1.94</td>\n",
       "      <td>CUST_1K7G39</td>\n",
       "      <td>Premium</td>\n",
       "      <td>4</td>\n",
       "      <td>FLASH_1VFK5K</td>\n",
       "      <td>43</td>\n",
       "      <td>34</td>\n",
       "      <td>BNDL_29U6W5</td>\n",
       "      <td>433</td>\n",
       "      <td>4</td>\n",
       "      <td>Affordable</td>\n",
       "    </tr>\n",
       "    <tr>\n",
       "      <th>1</th>\n",
       "      <td>CMP_JHHUE9</td>\n",
       "      <td>PROD_OE8YNJ</td>\n",
       "      <td>29900</td>\n",
       "      <td>570</td>\n",
       "      <td>510</td>\n",
       "      <td>30866</td>\n",
       "      <td>0.76</td>\n",
       "      <td>CUST_0DWS6F</td>\n",
       "      <td>Premium</td>\n",
       "      <td>4</td>\n",
       "      <td>FLASH_1M6COK</td>\n",
       "      <td>28</td>\n",
       "      <td>97</td>\n",
       "      <td>BNDL_ULV60J</td>\n",
       "      <td>289</td>\n",
       "      <td>2</td>\n",
       "      <td>Innovative</td>\n",
       "    </tr>\n",
       "    <tr>\n",
       "      <th>2</th>\n",
       "      <td>CMP_6SBOWN</td>\n",
       "      <td>PROD_4V8A08</td>\n",
       "      <td>22367</td>\n",
       "      <td>3546</td>\n",
       "      <td>265</td>\n",
       "      <td>32585</td>\n",
       "      <td>1.41</td>\n",
       "      <td>CUST_BR2GST</td>\n",
       "      <td>Basic</td>\n",
       "      <td>9</td>\n",
       "      <td>FLASH_J4PEON</td>\n",
       "      <td>51</td>\n",
       "      <td>160</td>\n",
       "      <td>BNDL_0HY0EF</td>\n",
       "      <td>462</td>\n",
       "      <td>4</td>\n",
       "      <td>Affordable</td>\n",
       "    </tr>\n",
       "    <tr>\n",
       "      <th>3</th>\n",
       "      <td>CMP_Q31QCU</td>\n",
       "      <td>PROD_A1Q6ZB</td>\n",
       "      <td>29957</td>\n",
       "      <td>2573</td>\n",
       "      <td>781</td>\n",
       "      <td>95740</td>\n",
       "      <td>3.32</td>\n",
       "      <td>CUST_6TBY6K</td>\n",
       "      <td>Premium</td>\n",
       "      <td>32</td>\n",
       "      <td>FLASH_1TOVXT</td>\n",
       "      <td>36</td>\n",
       "      <td>159</td>\n",
       "      <td>BNDL_AI09BC</td>\n",
       "      <td>334</td>\n",
       "      <td>1</td>\n",
       "      <td>Durable</td>\n",
       "    </tr>\n",
       "    <tr>\n",
       "      <th>4</th>\n",
       "      <td>CMP_AY0UTJ</td>\n",
       "      <td>PROD_F57N66</td>\n",
       "      <td>36277</td>\n",
       "      <td>818</td>\n",
       "      <td>79</td>\n",
       "      <td>81990</td>\n",
       "      <td>3.53</td>\n",
       "      <td>CUST_XASI45</td>\n",
       "      <td>Standard</td>\n",
       "      <td>29</td>\n",
       "      <td>FLASH_AOBHXL</td>\n",
       "      <td>20</td>\n",
       "      <td>52</td>\n",
       "      <td>BNDL_R03ITT</td>\n",
       "      <td>371</td>\n",
       "      <td>2</td>\n",
       "      <td>Affordable</td>\n",
       "    </tr>\n",
       "  </tbody>\n",
       "</table>\n",
       "</div>"
      ],
      "text/plain": [
       "  Campaign_ID   Product_ID  Budget  Clicks  Conversions  Revenue_Generated  \\\n",
       "0  CMP_RLSDVN  PROD_HBJFA3   41770    4946           73              15520   \n",
       "1  CMP_JHHUE9  PROD_OE8YNJ   29900     570          510              30866   \n",
       "2  CMP_6SBOWN  PROD_4V8A08   22367    3546          265              32585   \n",
       "3  CMP_Q31QCU  PROD_A1Q6ZB   29957    2573          781              95740   \n",
       "4  CMP_AY0UTJ  PROD_F57N66   36277     818           79              81990   \n",
       "\n",
       "    ROI  Customer_ID Subscription_Tier  Subscription_Length Flash_Sale_ID  \\\n",
       "0  1.94  CUST_1K7G39           Premium                    4  FLASH_1VFK5K   \n",
       "1  0.76  CUST_0DWS6F           Premium                    4  FLASH_1M6COK   \n",
       "2  1.41  CUST_BR2GST             Basic                    9  FLASH_J4PEON   \n",
       "3  3.32  CUST_6TBY6K           Premium                   32  FLASH_1TOVXT   \n",
       "4  3.53  CUST_XASI45          Standard                   29  FLASH_AOBHXL   \n",
       "\n",
       "   Discount_Level  Units_Sold    Bundle_ID  Bundle_Price  \\\n",
       "0              43          34  BNDL_29U6W5           433   \n",
       "1              28          97  BNDL_ULV60J           289   \n",
       "2              51         160  BNDL_0HY0EF           462   \n",
       "3              36         159  BNDL_AI09BC           334   \n",
       "4              20          52  BNDL_R03ITT           371   \n",
       "\n",
       "   Customer_Satisfaction_Post_Refund Common_Keywords  \n",
       "0                                  4      Affordable  \n",
       "1                                  2      Innovative  \n",
       "2                                  4      Affordable  \n",
       "3                                  1         Durable  \n",
       "4                                  2      Affordable  "
      ]
     },
     "execution_count": 38,
     "metadata": {},
     "output_type": "execute_result"
    }
   ],
   "source": [
    "data.head()\n",
    "# Return on Investment"
   ]
  },
  {
   "cell_type": "code",
   "execution_count": 9,
   "id": "3a1179e0-8686-472c-a7fb-8263ac760769",
   "metadata": {},
   "outputs": [
    {
     "data": {
      "text/html": [
       "<div>\n",
       "<style scoped>\n",
       "    .dataframe tbody tr th:only-of-type {\n",
       "        vertical-align: middle;\n",
       "    }\n",
       "\n",
       "    .dataframe tbody tr th {\n",
       "        vertical-align: top;\n",
       "    }\n",
       "\n",
       "    .dataframe thead th {\n",
       "        text-align: right;\n",
       "    }\n",
       "</style>\n",
       "<table border=\"1\" class=\"dataframe\">\n",
       "  <thead>\n",
       "    <tr style=\"text-align: right;\">\n",
       "      <th></th>\n",
       "      <th>0</th>\n",
       "    </tr>\n",
       "  </thead>\n",
       "  <tbody>\n",
       "    <tr>\n",
       "      <th>0</th>\n",
       "      <td>Campaign_ID</td>\n",
       "    </tr>\n",
       "    <tr>\n",
       "      <th>1</th>\n",
       "      <td>Product_ID</td>\n",
       "    </tr>\n",
       "    <tr>\n",
       "      <th>2</th>\n",
       "      <td>Budget</td>\n",
       "    </tr>\n",
       "    <tr>\n",
       "      <th>3</th>\n",
       "      <td>Clicks</td>\n",
       "    </tr>\n",
       "    <tr>\n",
       "      <th>4</th>\n",
       "      <td>Conversions</td>\n",
       "    </tr>\n",
       "    <tr>\n",
       "      <th>5</th>\n",
       "      <td>Revenue_Generated</td>\n",
       "    </tr>\n",
       "    <tr>\n",
       "      <th>6</th>\n",
       "      <td>ROI</td>\n",
       "    </tr>\n",
       "    <tr>\n",
       "      <th>7</th>\n",
       "      <td>Customer_ID</td>\n",
       "    </tr>\n",
       "    <tr>\n",
       "      <th>8</th>\n",
       "      <td>Subscription_Tier</td>\n",
       "    </tr>\n",
       "    <tr>\n",
       "      <th>9</th>\n",
       "      <td>Subscription_Length</td>\n",
       "    </tr>\n",
       "    <tr>\n",
       "      <th>10</th>\n",
       "      <td>Flash_Sale_ID</td>\n",
       "    </tr>\n",
       "    <tr>\n",
       "      <th>11</th>\n",
       "      <td>Discount_Level</td>\n",
       "    </tr>\n",
       "    <tr>\n",
       "      <th>12</th>\n",
       "      <td>Units_Sold</td>\n",
       "    </tr>\n",
       "    <tr>\n",
       "      <th>13</th>\n",
       "      <td>Bundle_ID</td>\n",
       "    </tr>\n",
       "    <tr>\n",
       "      <th>14</th>\n",
       "      <td>Bundle_Price</td>\n",
       "    </tr>\n",
       "    <tr>\n",
       "      <th>15</th>\n",
       "      <td>Customer_Satisfaction_Post_Refund</td>\n",
       "    </tr>\n",
       "    <tr>\n",
       "      <th>16</th>\n",
       "      <td>Common_Keywords</td>\n",
       "    </tr>\n",
       "  </tbody>\n",
       "</table>\n",
       "</div>"
      ],
      "text/plain": [
       "                                    0\n",
       "0                         Campaign_ID\n",
       "1                          Product_ID\n",
       "2                              Budget\n",
       "3                              Clicks\n",
       "4                         Conversions\n",
       "5                   Revenue_Generated\n",
       "6                                 ROI\n",
       "7                         Customer_ID\n",
       "8                   Subscription_Tier\n",
       "9                 Subscription_Length\n",
       "10                      Flash_Sale_ID\n",
       "11                     Discount_Level\n",
       "12                         Units_Sold\n",
       "13                          Bundle_ID\n",
       "14                       Bundle_Price\n",
       "15  Customer_Satisfaction_Post_Refund\n",
       "16                    Common_Keywords"
      ]
     },
     "execution_count": 9,
     "metadata": {},
     "output_type": "execute_result"
    }
   ],
   "source": [
    "pd.DataFrame(data.columns)"
   ]
  },
  {
   "cell_type": "code",
   "execution_count": 10,
   "id": "49aaf05d-82c7-496c-834f-96e5976fb172",
   "metadata": {},
   "outputs": [
    {
     "name": "stdout",
     "output_type": "stream",
     "text": [
      "<class 'pandas.core.frame.DataFrame'>\n",
      "RangeIndex: 10000 entries, 0 to 9999\n",
      "Data columns (total 17 columns):\n",
      " #   Column                             Non-Null Count  Dtype  \n",
      "---  ------                             --------------  -----  \n",
      " 0   Campaign_ID                        10000 non-null  object \n",
      " 1   Product_ID                         10000 non-null  object \n",
      " 2   Budget                             10000 non-null  float64\n",
      " 3   Clicks                             10000 non-null  int64  \n",
      " 4   Conversions                        10000 non-null  int64  \n",
      " 5   Revenue_Generated                  10000 non-null  float64\n",
      " 6   ROI                                10000 non-null  float64\n",
      " 7   Customer_ID                        10000 non-null  object \n",
      " 8   Subscription_Tier                  10000 non-null  object \n",
      " 9   Subscription_Length                10000 non-null  int64  \n",
      " 10  Flash_Sale_ID                      10000 non-null  object \n",
      " 11  Discount_Level                     10000 non-null  int64  \n",
      " 12  Units_Sold                         10000 non-null  int64  \n",
      " 13  Bundle_ID                          10000 non-null  object \n",
      " 14  Bundle_Price                       10000 non-null  float64\n",
      " 15  Customer_Satisfaction_Post_Refund  10000 non-null  int64  \n",
      " 16  Common_Keywords                    10000 non-null  object \n",
      "dtypes: float64(4), int64(6), object(7)\n",
      "memory usage: 1.3+ MB\n"
     ]
    }
   ],
   "source": [
    "data.info()"
   ]
  },
  {
   "cell_type": "code",
   "execution_count": 11,
   "id": "dcd99108-9451-48bb-9a63-3a2332f372ea",
   "metadata": {},
   "outputs": [
    {
     "data": {
      "text/plain": [
       "(10000, 17)"
      ]
     },
     "execution_count": 11,
     "metadata": {},
     "output_type": "execute_result"
    }
   ],
   "source": [
    "data.shape"
   ]
  },
  {
   "cell_type": "markdown",
   "id": "865b172c-e9fa-4354-a9d1-6e63d0764b2e",
   "metadata": {},
   "source": [
    "## Dealing with Nulls"
   ]
  },
  {
   "cell_type": "code",
   "execution_count": 14,
   "id": "aa3d0d64-d36f-44cf-9100-adbe78be0bda",
   "metadata": {},
   "outputs": [
    {
     "data": {
      "text/plain": [
       "Campaign_ID                          0\n",
       "Product_ID                           0\n",
       "Budget                               0\n",
       "Clicks                               0\n",
       "Conversions                          0\n",
       "Revenue_Generated                    0\n",
       "ROI                                  0\n",
       "Customer_ID                          0\n",
       "Subscription_Tier                    0\n",
       "Subscription_Length                  0\n",
       "Flash_Sale_ID                        0\n",
       "Discount_Level                       0\n",
       "Units_Sold                           0\n",
       "Bundle_ID                            0\n",
       "Bundle_Price                         0\n",
       "Customer_Satisfaction_Post_Refund    0\n",
       "Common_Keywords                      0\n",
       "dtype: int64"
      ]
     },
     "execution_count": 14,
     "metadata": {},
     "output_type": "execute_result"
    }
   ],
   "source": [
    "data.isnull().sum()\n",
    "# there are not nulls in dataset"
   ]
  },
  {
   "cell_type": "markdown",
   "id": "9f0ae0a0-8d08-42ae-8cfb-568e0729563f",
   "metadata": {},
   "source": [
    "## Duplicates"
   ]
  },
  {
   "cell_type": "code",
   "execution_count": 29,
   "id": "47cd8629-654d-4c4e-a6ed-29b11ee22325",
   "metadata": {},
   "outputs": [
    {
     "data": {
      "text/plain": [
       "0"
      ]
     },
     "execution_count": 29,
     "metadata": {},
     "output_type": "execute_result"
    }
   ],
   "source": [
    "data['Campaign_ID'].duplicated().sum()\n",
    "# No duplicated values"
   ]
  },
  {
   "cell_type": "code",
   "execution_count": 31,
   "id": "266a2315-06a1-4802-93e8-ddd5e89648e2",
   "metadata": {},
   "outputs": [
    {
     "data": {
      "text/plain": [
       "0"
      ]
     },
     "execution_count": 31,
     "metadata": {},
     "output_type": "execute_result"
    }
   ],
   "source": [
    "data['Product_ID'].duplicated().sum()\n",
    "# Each advertising campaign is based on one product."
   ]
  },
  {
   "cell_type": "markdown",
   "id": "365582cc-e156-46eb-8624-d4ad6123c1f5",
   "metadata": {},
   "source": [
    "## Data Types"
   ]
  },
  {
   "cell_type": "code",
   "execution_count": 32,
   "id": "fe8c249c-bbf9-4035-95c7-d147cb6ff453",
   "metadata": {},
   "outputs": [],
   "source": [
    "data['Budget'] = data['Budget'].astype('int64')"
   ]
  },
  {
   "cell_type": "code",
   "execution_count": 33,
   "id": "23561b99-d51f-4713-bce7-8768a246373a",
   "metadata": {},
   "outputs": [],
   "source": [
    "data['Revenue_Generated'] = data['Revenue_Generated'].astype('int64')"
   ]
  },
  {
   "cell_type": "code",
   "execution_count": 35,
   "id": "4b8ab27a-6ad0-459b-837d-c2df5ec63601",
   "metadata": {},
   "outputs": [],
   "source": [
    "data['Bundle_Price'] = data['Bundle_Price'].astype('int64')"
   ]
  },
  {
   "cell_type": "code",
   "execution_count": 37,
   "id": "bbb52ee0-b0cb-479b-b074-271c52d55821",
   "metadata": {},
   "outputs": [
    {
     "name": "stdout",
     "output_type": "stream",
     "text": [
      "<class 'pandas.core.frame.DataFrame'>\n",
      "RangeIndex: 10000 entries, 0 to 9999\n",
      "Data columns (total 17 columns):\n",
      " #   Column                             Non-Null Count  Dtype  \n",
      "---  ------                             --------------  -----  \n",
      " 0   Campaign_ID                        10000 non-null  object \n",
      " 1   Product_ID                         10000 non-null  object \n",
      " 2   Budget                             10000 non-null  int64  \n",
      " 3   Clicks                             10000 non-null  int64  \n",
      " 4   Conversions                        10000 non-null  int64  \n",
      " 5   Revenue_Generated                  10000 non-null  int64  \n",
      " 6   ROI                                10000 non-null  float64\n",
      " 7   Customer_ID                        10000 non-null  object \n",
      " 8   Subscription_Tier                  10000 non-null  object \n",
      " 9   Subscription_Length                10000 non-null  int64  \n",
      " 10  Flash_Sale_ID                      10000 non-null  object \n",
      " 11  Discount_Level                     10000 non-null  int64  \n",
      " 12  Units_Sold                         10000 non-null  int64  \n",
      " 13  Bundle_ID                          10000 non-null  object \n",
      " 14  Bundle_Price                       10000 non-null  int64  \n",
      " 15  Customer_Satisfaction_Post_Refund  10000 non-null  int64  \n",
      " 16  Common_Keywords                    10000 non-null  object \n",
      "dtypes: float64(1), int64(9), object(7)\n",
      "memory usage: 1.3+ MB\n"
     ]
    }
   ],
   "source": [
    "data.info()"
   ]
  },
  {
   "cell_type": "markdown",
   "id": "87a8ad2f-ce48-4a2a-a538-6df5db61fc7f",
   "metadata": {},
   "source": [
    "# Analysis and Insights"
   ]
  },
  {
   "cell_type": "markdown",
   "id": "760ed26e-4587-4ff9-b103-ddfc85dff15a",
   "metadata": {},
   "source": [
    "#### Top 5 products in an advertising campaign according to budget"
   ]
  },
  {
   "cell_type": "code",
   "execution_count": 61,
   "id": "be647dc1-552b-4278-9624-60f69599e7ae",
   "metadata": {},
   "outputs": [
    {
     "data": {
      "text/html": [
       "<div>\n",
       "<style scoped>\n",
       "    .dataframe tbody tr th:only-of-type {\n",
       "        vertical-align: middle;\n",
       "    }\n",
       "\n",
       "    .dataframe tbody tr th {\n",
       "        vertical-align: top;\n",
       "    }\n",
       "\n",
       "    .dataframe thead th {\n",
       "        text-align: right;\n",
       "    }\n",
       "</style>\n",
       "<table border=\"1\" class=\"dataframe\">\n",
       "  <thead>\n",
       "    <tr style=\"text-align: right;\">\n",
       "      <th></th>\n",
       "      <th></th>\n",
       "      <th>Budget</th>\n",
       "    </tr>\n",
       "    <tr>\n",
       "      <th>Campaign_ID</th>\n",
       "      <th>Product_ID</th>\n",
       "      <th></th>\n",
       "    </tr>\n",
       "  </thead>\n",
       "  <tbody>\n",
       "    <tr>\n",
       "      <th>CMP_7FVX2Z</th>\n",
       "      <th>PROD_P0K4T6</th>\n",
       "      <td>49999</td>\n",
       "    </tr>\n",
       "    <tr>\n",
       "      <th>CMP_XWDTMN</th>\n",
       "      <th>PROD_F5VQXA</th>\n",
       "      <td>49998</td>\n",
       "    </tr>\n",
       "    <tr>\n",
       "      <th>CMP_ROPOIR</th>\n",
       "      <th>PROD_HOIXUX</th>\n",
       "      <td>49990</td>\n",
       "    </tr>\n",
       "    <tr>\n",
       "      <th>CMP_BCB1BA</th>\n",
       "      <th>PROD_46S8C0</th>\n",
       "      <td>49987</td>\n",
       "    </tr>\n",
       "    <tr>\n",
       "      <th>CMP_ABR1BJ</th>\n",
       "      <th>PROD_QTTHYL</th>\n",
       "      <td>49984</td>\n",
       "    </tr>\n",
       "  </tbody>\n",
       "</table>\n",
       "</div>"
      ],
      "text/plain": [
       "                         Budget\n",
       "Campaign_ID Product_ID         \n",
       "CMP_7FVX2Z  PROD_P0K4T6   49999\n",
       "CMP_XWDTMN  PROD_F5VQXA   49998\n",
       "CMP_ROPOIR  PROD_HOIXUX   49990\n",
       "CMP_BCB1BA  PROD_46S8C0   49987\n",
       "CMP_ABR1BJ  PROD_QTTHYL   49984"
      ]
     },
     "execution_count": 61,
     "metadata": {},
     "output_type": "execute_result"
    }
   ],
   "source": [
    "Top_products = data.groupby(['Campaign_ID','Product_ID'])['Budget'].sum().sort_values(ascending=False).head(5)\n",
    "Top_products = pd.DataFrame(Top_products)\n",
    "Top_products"
   ]
  },
  {
   "cell_type": "markdown",
   "id": "eba11970-cf42-4e0f-9ecf-2f52e6623f3c",
   "metadata": {},
   "source": [
    "#### Top 5 products in an advertising campaign according to Revenue Generated                  "
   ]
  },
  {
   "cell_type": "code",
   "execution_count": 62,
   "id": "d07ef8a0-b076-4ac1-b1a5-cc2cce2f7151",
   "metadata": {},
   "outputs": [
    {
     "data": {
      "text/html": [
       "<div>\n",
       "<style scoped>\n",
       "    .dataframe tbody tr th:only-of-type {\n",
       "        vertical-align: middle;\n",
       "    }\n",
       "\n",
       "    .dataframe tbody tr th {\n",
       "        vertical-align: top;\n",
       "    }\n",
       "\n",
       "    .dataframe thead th {\n",
       "        text-align: right;\n",
       "    }\n",
       "</style>\n",
       "<table border=\"1\" class=\"dataframe\">\n",
       "  <thead>\n",
       "    <tr style=\"text-align: right;\">\n",
       "      <th></th>\n",
       "      <th></th>\n",
       "      <th>Revenue_Generated</th>\n",
       "    </tr>\n",
       "    <tr>\n",
       "      <th>Campaign_ID</th>\n",
       "      <th>Product_ID</th>\n",
       "      <th></th>\n",
       "    </tr>\n",
       "  </thead>\n",
       "  <tbody>\n",
       "    <tr>\n",
       "      <th>CMP_QL4ACK</th>\n",
       "      <th>PROD_YWCQ5B</th>\n",
       "      <td>99999</td>\n",
       "    </tr>\n",
       "    <tr>\n",
       "      <th>CMP_T6578B</th>\n",
       "      <th>PROD_OEWJUT</th>\n",
       "      <td>99995</td>\n",
       "    </tr>\n",
       "    <tr>\n",
       "      <th>CMP_KJHPXL</th>\n",
       "      <th>PROD_8JEJ8V</th>\n",
       "      <td>99980</td>\n",
       "    </tr>\n",
       "    <tr>\n",
       "      <th>CMP_055BQ3</th>\n",
       "      <th>PROD_XETFB1</th>\n",
       "      <td>99958</td>\n",
       "    </tr>\n",
       "    <tr>\n",
       "      <th>CMP_XRPO8L</th>\n",
       "      <th>PROD_CAG26A</th>\n",
       "      <td>99931</td>\n",
       "    </tr>\n",
       "  </tbody>\n",
       "</table>\n",
       "</div>"
      ],
      "text/plain": [
       "                         Revenue_Generated\n",
       "Campaign_ID Product_ID                    \n",
       "CMP_QL4ACK  PROD_YWCQ5B              99999\n",
       "CMP_T6578B  PROD_OEWJUT              99995\n",
       "CMP_KJHPXL  PROD_8JEJ8V              99980\n",
       "CMP_055BQ3  PROD_XETFB1              99958\n",
       "CMP_XRPO8L  PROD_CAG26A              99931"
      ]
     },
     "execution_count": 62,
     "metadata": {},
     "output_type": "execute_result"
    }
   ],
   "source": [
    "Top_Revenue  = data.groupby(['Campaign_ID','Product_ID'])['Revenue_Generated'].sum().sort_values(ascending=False).head(5)\n",
    "Top_Revenue = pd.DataFrame(Top_Revenue)\n",
    "Top_Revenue"
   ]
  },
  {
   "cell_type": "markdown",
   "id": "6bcbc1a8-b8b0-4535-9138-2194fd3eb777",
   "metadata": {},
   "source": [
    "#### Top 5 campaigns in terms of return on investment (ROI) and Budget"
   ]
  },
  {
   "cell_type": "code",
   "execution_count": 78,
   "id": "48b2b2bf-3990-434d-991f-e81c0f7c0ec9",
   "metadata": {},
   "outputs": [
    {
     "data": {
      "text/html": [
       "<div>\n",
       "<style scoped>\n",
       "    .dataframe tbody tr th:only-of-type {\n",
       "        vertical-align: middle;\n",
       "    }\n",
       "\n",
       "    .dataframe tbody tr th {\n",
       "        vertical-align: top;\n",
       "    }\n",
       "\n",
       "    .dataframe thead th {\n",
       "        text-align: right;\n",
       "    }\n",
       "</style>\n",
       "<table border=\"1\" class=\"dataframe\">\n",
       "  <thead>\n",
       "    <tr style=\"text-align: right;\">\n",
       "      <th></th>\n",
       "      <th></th>\n",
       "      <th>ROI</th>\n",
       "    </tr>\n",
       "    <tr>\n",
       "      <th>Campaign_ID</th>\n",
       "      <th>Budget</th>\n",
       "      <th></th>\n",
       "    </tr>\n",
       "  </thead>\n",
       "  <tbody>\n",
       "    <tr>\n",
       "      <th>CMP_S6VF9Q</th>\n",
       "      <th>31962</th>\n",
       "      <td>5.0</td>\n",
       "    </tr>\n",
       "    <tr>\n",
       "      <th>CMP_OVJM10</th>\n",
       "      <th>38876</th>\n",
       "      <td>5.0</td>\n",
       "    </tr>\n",
       "    <tr>\n",
       "      <th>CMP_W8XDX6</th>\n",
       "      <th>10713</th>\n",
       "      <td>5.0</td>\n",
       "    </tr>\n",
       "    <tr>\n",
       "      <th>CMP_2GQ6OB</th>\n",
       "      <th>20033</th>\n",
       "      <td>5.0</td>\n",
       "    </tr>\n",
       "    <tr>\n",
       "      <th>CMP_XXSB3M</th>\n",
       "      <th>18589</th>\n",
       "      <td>5.0</td>\n",
       "    </tr>\n",
       "  </tbody>\n",
       "</table>\n",
       "</div>"
      ],
      "text/plain": [
       "                    ROI\n",
       "Campaign_ID Budget     \n",
       "CMP_S6VF9Q  31962   5.0\n",
       "CMP_OVJM10  38876   5.0\n",
       "CMP_W8XDX6  10713   5.0\n",
       "CMP_2GQ6OB  20033   5.0\n",
       "CMP_XXSB3M  18589   5.0"
      ]
     },
     "execution_count": 78,
     "metadata": {},
     "output_type": "execute_result"
    }
   ],
   "source": [
    "Top_ROI = data.groupby(['Campaign_ID','Budget'])['ROI'].sum().sort_values(ascending=False).head(5)\n",
    "Top_ROI = pd.DataFrame(Top_ROI)\n",
    "Top_ROI"
   ]
  },
  {
   "cell_type": "markdown",
   "id": "2642d66a-5ab8-43f9-83b0-2ac6de0b8b62",
   "metadata": {},
   "source": [
    "#### Number of customers per subscription"
   ]
  },
  {
   "cell_type": "code",
   "execution_count": 81,
   "id": "be38e6f5-6932-43b2-9571-e13c49a4b619",
   "metadata": {},
   "outputs": [
    {
     "data": {
      "text/html": [
       "<div>\n",
       "<style scoped>\n",
       "    .dataframe tbody tr th:only-of-type {\n",
       "        vertical-align: middle;\n",
       "    }\n",
       "\n",
       "    .dataframe tbody tr th {\n",
       "        vertical-align: top;\n",
       "    }\n",
       "\n",
       "    .dataframe thead th {\n",
       "        text-align: right;\n",
       "    }\n",
       "</style>\n",
       "<table border=\"1\" class=\"dataframe\">\n",
       "  <thead>\n",
       "    <tr style=\"text-align: right;\">\n",
       "      <th></th>\n",
       "      <th>count</th>\n",
       "    </tr>\n",
       "    <tr>\n",
       "      <th>Subscription_Tier</th>\n",
       "      <th></th>\n",
       "    </tr>\n",
       "  </thead>\n",
       "  <tbody>\n",
       "    <tr>\n",
       "      <th>Basic</th>\n",
       "      <td>3416</td>\n",
       "    </tr>\n",
       "    <tr>\n",
       "      <th>Standard</th>\n",
       "      <td>3300</td>\n",
       "    </tr>\n",
       "    <tr>\n",
       "      <th>Premium</th>\n",
       "      <td>3284</td>\n",
       "    </tr>\n",
       "  </tbody>\n",
       "</table>\n",
       "</div>"
      ],
      "text/plain": [
       "                   count\n",
       "Subscription_Tier       \n",
       "Basic               3416\n",
       "Standard            3300\n",
       "Premium             3284"
      ]
     },
     "execution_count": 81,
     "metadata": {},
     "output_type": "execute_result"
    }
   ],
   "source": [
    "customers_subscription = data['Subscription_Tier'].value_counts().sort_values(ascending=False)\n",
    "customers_subscription = pd.DataFrame(customers_subscription)\n",
    "customers_subscription"
   ]
  },
  {
   "cell_type": "markdown",
   "id": "f328e24c-544a-4401-9666-2bd00e6e9f02",
   "metadata": {},
   "source": [
    "#### Top 10 Products per Total Units Sold"
   ]
  },
  {
   "cell_type": "code",
   "execution_count": 88,
   "id": "6aff9517-2491-4f0d-9a21-c85701434c45",
   "metadata": {},
   "outputs": [
    {
     "data": {
      "text/html": [
       "<div>\n",
       "<style scoped>\n",
       "    .dataframe tbody tr th:only-of-type {\n",
       "        vertical-align: middle;\n",
       "    }\n",
       "\n",
       "    .dataframe tbody tr th {\n",
       "        vertical-align: top;\n",
       "    }\n",
       "\n",
       "    .dataframe thead th {\n",
       "        text-align: right;\n",
       "    }\n",
       "</style>\n",
       "<table border=\"1\" class=\"dataframe\">\n",
       "  <thead>\n",
       "    <tr style=\"text-align: right;\">\n",
       "      <th></th>\n",
       "      <th>Units_Sold</th>\n",
       "    </tr>\n",
       "    <tr>\n",
       "      <th>Product_ID</th>\n",
       "      <th></th>\n",
       "    </tr>\n",
       "  </thead>\n",
       "  <tbody>\n",
       "    <tr>\n",
       "      <th>PROD_5187B5</th>\n",
       "      <td>199.0</td>\n",
       "    </tr>\n",
       "    <tr>\n",
       "      <th>PROD_QLLVKL</th>\n",
       "      <td>199.0</td>\n",
       "    </tr>\n",
       "    <tr>\n",
       "      <th>PROD_YTTEGH</th>\n",
       "      <td>199.0</td>\n",
       "    </tr>\n",
       "    <tr>\n",
       "      <th>PROD_41SS4F</th>\n",
       "      <td>199.0</td>\n",
       "    </tr>\n",
       "    <tr>\n",
       "      <th>PROD_NI6KGB</th>\n",
       "      <td>199.0</td>\n",
       "    </tr>\n",
       "    <tr>\n",
       "      <th>PROD_1GC6EB</th>\n",
       "      <td>199.0</td>\n",
       "    </tr>\n",
       "    <tr>\n",
       "      <th>PROD_XA34OD</th>\n",
       "      <td>199.0</td>\n",
       "    </tr>\n",
       "    <tr>\n",
       "      <th>PROD_9J9X35</th>\n",
       "      <td>199.0</td>\n",
       "    </tr>\n",
       "    <tr>\n",
       "      <th>PROD_YY3HP2</th>\n",
       "      <td>199.0</td>\n",
       "    </tr>\n",
       "    <tr>\n",
       "      <th>PROD_92TWJU</th>\n",
       "      <td>199.0</td>\n",
       "    </tr>\n",
       "  </tbody>\n",
       "</table>\n",
       "</div>"
      ],
      "text/plain": [
       "             Units_Sold\n",
       "Product_ID             \n",
       "PROD_5187B5       199.0\n",
       "PROD_QLLVKL       199.0\n",
       "PROD_YTTEGH       199.0\n",
       "PROD_41SS4F       199.0\n",
       "PROD_NI6KGB       199.0\n",
       "PROD_1GC6EB       199.0\n",
       "PROD_XA34OD       199.0\n",
       "PROD_9J9X35       199.0\n",
       "PROD_YY3HP2       199.0\n",
       "PROD_92TWJU       199.0"
      ]
     },
     "execution_count": 88,
     "metadata": {},
     "output_type": "execute_result"
    }
   ],
   "source": [
    "Total_Units = data.groupby(['Product_ID'])['Units_Sold'].sum().sort_values(ascending=False).head(10)\n",
    "Total_Units = pd.DataFrame(Total_Units)\n",
    "Total_Units"
   ]
  },
  {
   "cell_type": "markdown",
   "id": "85eb79f6-8c94-4ee2-91ba-d1a270347af3",
   "metadata": {},
   "source": [
    "####  Average Units Sold "
   ]
  },
  {
   "cell_type": "code",
   "execution_count": 92,
   "id": "1bbda67d-3c60-4e74-a283-9f2951677d4d",
   "metadata": {},
   "outputs": [
    {
     "data": {
      "text/plain": [
       "100.6896"
      ]
     },
     "execution_count": 92,
     "metadata": {},
     "output_type": "execute_result"
    }
   ],
   "source": [
    "avg_units = data['Units_Sold'].mean()\n",
    "avg_units"
   ]
  },
  {
   "cell_type": "code",
   "execution_count": 95,
   "id": "e9e5e9a3-8cf7-43f1-8336-b8f351258991",
   "metadata": {},
   "outputs": [
    {
     "data": {
      "text/plain": [
       "Units_Sold\n",
       "133    69\n",
       "52     67\n",
       "56     67\n",
       "179    66\n",
       "15     64\n",
       "186    64\n",
       "67     63\n",
       "123    63\n",
       "159    63\n",
       "128    62\n",
       "Name: count, dtype: int64"
      ]
     },
     "execution_count": 95,
     "metadata": {},
     "output_type": "execute_result"
    }
   ],
   "source": [
    "data['Units_Sold'].value_counts().sort_values(ascending=False).head(10)"
   ]
  },
  {
   "cell_type": "markdown",
   "id": "daff8915-df3f-4b3b-9155-b3d33b786d73",
   "metadata": {},
   "source": [
    "#### The most expensive 10 bundles ?"
   ]
  },
  {
   "cell_type": "code",
   "execution_count": 100,
   "id": "a079ccd4-ad75-4f33-bfc2-21647946b7b7",
   "metadata": {},
   "outputs": [
    {
     "data": {
      "text/html": [
       "<div>\n",
       "<style scoped>\n",
       "    .dataframe tbody tr th:only-of-type {\n",
       "        vertical-align: middle;\n",
       "    }\n",
       "\n",
       "    .dataframe tbody tr th {\n",
       "        vertical-align: top;\n",
       "    }\n",
       "\n",
       "    .dataframe thead th {\n",
       "        text-align: right;\n",
       "    }\n",
       "</style>\n",
       "<table border=\"1\" class=\"dataframe\">\n",
       "  <thead>\n",
       "    <tr style=\"text-align: right;\">\n",
       "      <th></th>\n",
       "      <th>Bundle_ID</th>\n",
       "      <th>Bundle_Price</th>\n",
       "    </tr>\n",
       "  </thead>\n",
       "  <tbody>\n",
       "    <tr>\n",
       "      <th>1304</th>\n",
       "      <td>BNDL_5VE8EG</td>\n",
       "      <td>499</td>\n",
       "    </tr>\n",
       "    <tr>\n",
       "      <th>1375</th>\n",
       "      <td>BNDL_WF3V9J</td>\n",
       "      <td>499</td>\n",
       "    </tr>\n",
       "    <tr>\n",
       "      <th>9702</th>\n",
       "      <td>BNDL_MRKFQT</td>\n",
       "      <td>499</td>\n",
       "    </tr>\n",
       "    <tr>\n",
       "      <th>7401</th>\n",
       "      <td>BNDL_GPH0TN</td>\n",
       "      <td>499</td>\n",
       "    </tr>\n",
       "    <tr>\n",
       "      <th>4285</th>\n",
       "      <td>BNDL_EDOK4J</td>\n",
       "      <td>499</td>\n",
       "    </tr>\n",
       "    <tr>\n",
       "      <th>5197</th>\n",
       "      <td>BNDL_AF3UAJ</td>\n",
       "      <td>499</td>\n",
       "    </tr>\n",
       "    <tr>\n",
       "      <th>1218</th>\n",
       "      <td>BNDL_BAH5E4</td>\n",
       "      <td>499</td>\n",
       "    </tr>\n",
       "    <tr>\n",
       "      <th>6466</th>\n",
       "      <td>BNDL_0SSBI1</td>\n",
       "      <td>499</td>\n",
       "    </tr>\n",
       "    <tr>\n",
       "      <th>2757</th>\n",
       "      <td>BNDL_2S9F0O</td>\n",
       "      <td>499</td>\n",
       "    </tr>\n",
       "    <tr>\n",
       "      <th>2777</th>\n",
       "      <td>BNDL_UW83HW</td>\n",
       "      <td>499</td>\n",
       "    </tr>\n",
       "  </tbody>\n",
       "</table>\n",
       "</div>"
      ],
      "text/plain": [
       "        Bundle_ID  Bundle_Price\n",
       "1304  BNDL_5VE8EG           499\n",
       "1375  BNDL_WF3V9J           499\n",
       "9702  BNDL_MRKFQT           499\n",
       "7401  BNDL_GPH0TN           499\n",
       "4285  BNDL_EDOK4J           499\n",
       "5197  BNDL_AF3UAJ           499\n",
       "1218  BNDL_BAH5E4           499\n",
       "6466  BNDL_0SSBI1           499\n",
       "2757  BNDL_2S9F0O           499\n",
       "2777  BNDL_UW83HW           499"
      ]
     },
     "execution_count": 100,
     "metadata": {},
     "output_type": "execute_result"
    }
   ],
   "source": [
    "Total_bundle = data[['Bundle_ID','Bundle_Price']].sort_values(by='Bundle_Price', ascending=False).head(10)\n",
    "Total_bundle = pd.DataFrame(Total_bundle)\n",
    "Total_bundle"
   ]
  },
  {
   "cell_type": "code",
   "execution_count": 104,
   "id": "174d05c0-00ba-4897-868a-9e115807253a",
   "metadata": {
    "collapsed": true,
    "jupyter": {
     "outputs_hidden": true
    }
   },
   "outputs": [
    {
     "data": {
      "text/plain": [
       "Bundle_ID    Bundle_Price\n",
       "BNDL_0013N3  88              1\n",
       "BNDL_O3L0O3  424             1\n",
       "BNDL_O30RDS  255             1\n",
       "BNDL_O321J0  332             1\n",
       "BNDL_O3231A  441             1\n",
       "BNDL_O34JB3  251             1\n",
       "BNDL_O37RMA  149             1\n",
       "BNDL_O396M2  261             1\n",
       "BNDL_O3KYBD  286             1\n",
       "BNDL_O3LTW0  215             1\n",
       "Name: count, dtype: int64"
      ]
     },
     "execution_count": 104,
     "metadata": {},
     "output_type": "execute_result"
    }
   ],
   "source": [
    "data[['Bundle_ID','Bundle_Price']].sort_values(by='Bundle_Price',ascending=False).value_counts().head(10)"
   ]
  },
  {
   "cell_type": "code",
   "execution_count": 105,
   "id": "f7193cb1-a1ad-4d56-9a8b-66debb348746",
   "metadata": {},
   "outputs": [],
   "source": [
    "data.to_excel('Marketing.xlsx')"
   ]
  },
  {
   "cell_type": "code",
   "execution_count": null,
   "id": "5e23c0af-b67e-4632-abfb-6161cc0ffabc",
   "metadata": {},
   "outputs": [],
   "source": []
  }
 ],
 "metadata": {
  "kernelspec": {
   "display_name": "Python 3 (ipykernel)",
   "language": "python",
   "name": "python3"
  },
  "language_info": {
   "codemirror_mode": {
    "name": "ipython",
    "version": 3
   },
   "file_extension": ".py",
   "mimetype": "text/x-python",
   "name": "python",
   "nbconvert_exporter": "python",
   "pygments_lexer": "ipython3",
   "version": "3.12.3"
  }
 },
 "nbformat": 4,
 "nbformat_minor": 5
}
